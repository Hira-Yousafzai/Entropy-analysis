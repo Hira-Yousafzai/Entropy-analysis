{
 "cells": [
  {
   "cell_type": "markdown",
   "metadata": {},
   "source": [
    "# Entropy analysis for Price and Prejudice by Jane Austen\n",
    "***"
   ]
  },
  {
   "cell_type": "markdown",
   "metadata": {
    "id": "LO03PSx1c7Sm"
   },
   "source": [
    "## Code for the problem"
   ]
  },
  {
   "cell_type": "code",
   "execution_count": 1,
   "metadata": {
    "executionInfo": {
     "elapsed": 132,
     "status": "ok",
     "timestamp": 1647893562299,
     "user": {
      "displayName": "noshah noshah",
      "photoUrl": "https://lh3.googleusercontent.com/a-/AOh14GgkTRhrrqPN9HB2tHKYbRJgstsa7FDBTuxCC8HTBQ=s64",
      "userId": "16058168177383914094"
     },
     "user_tz": 300
    },
    "id": "vmtQt7qC6p2D"
   },
   "outputs": [],
   "source": [
    "import numpy as np\n",
    "import matplotlib.pyplot as plt"
   ]
  },
  {
   "cell_type": "code",
   "execution_count": null,
   "metadata": {
    "id": "LBjMZyGyGJGq"
   },
   "outputs": [],
   "source": [
    "files = os.listdir('books')"
   ]
  },
  {
   "cell_type": "markdown",
   "metadata": {
    "id": "JskDDGOfUIbW"
   },
   "source": [
    "## Functions to compute letters and words"
   ]
  },
  {
   "cell_type": "code",
   "execution_count": 2,
   "metadata": {
    "executionInfo": {
     "elapsed": 121,
     "status": "ok",
     "timestamp": 1647893564812,
     "user": {
      "displayName": "noshah noshah",
      "photoUrl": "https://lh3.googleusercontent.com/a-/AOh14GgkTRhrrqPN9HB2tHKYbRJgstsa7FDBTuxCC8HTBQ=s64",
      "userId": "16058168177383914094"
     },
     "user_tz": 300
    },
    "id": "HhpGzyio304y"
   },
   "outputs": [],
   "source": [
    "def readlett(file):\n",
    "  clst=[]\n",
    "  needed = ['A', 'B', 'C', 'D', 'E', 'F', 'G', 'H', 'I', 'J', 'K', 'L', 'M',\n",
    "       'N', 'O', 'P', 'Q', 'R', 'S', 'T', 'U', 'V', 'W', 'X', 'Y', 'Z',\n",
    "       'a', 'b', 'c', 'd', 'e', 'f', 'g', 'h', 'i', 'j', 'k', 'l', 'm',\n",
    "       'n', 'o', 'p', 'q', 'r', 's', 't', 'u', 'v', 'w', 'x', 'y', 'z']\n",
    "  f = open(file,'r')\n",
    "  for line in f:\n",
    "    for c in line:\n",
    "      if c in needed:\n",
    "        clst.append(c.lower())\n",
    "  return clst"
   ]
  },
  {
   "cell_type": "code",
   "execution_count": 3,
   "metadata": {
    "executionInfo": {
     "elapsed": 132,
     "status": "ok",
     "timestamp": 1647893567347,
     "user": {
      "displayName": "noshah noshah",
      "photoUrl": "https://lh3.googleusercontent.com/a-/AOh14GgkTRhrrqPN9HB2tHKYbRJgstsa7FDBTuxCC8HTBQ=s64",
      "userId": "16058168177383914094"
     },
     "user_tz": 300
    },
    "id": "NeEOgv-eIzpJ"
   },
   "outputs": [],
   "source": [
    "def readword(file):\n",
    "  wlst=[]\n",
    "  f = open(file,'r')\n",
    "  for line in f:\n",
    "    for w in line.split():\n",
    "      wlst.append(w.lower())\n",
    "  return wlst"
   ]
  },
  {
   "cell_type": "markdown",
   "metadata": {
    "id": "_z3xk6lKURGJ"
   },
   "source": [
    "## Letters entropy"
   ]
  },
  {
   "cell_type": "markdown",
   "metadata": {
    "id": "DrQaMNUtVBXn"
   },
   "source": [
    "### Novel"
   ]
  },
  {
   "cell_type": "code",
   "execution_count": 13,
   "metadata": {
    "colab": {
     "base_uri": "https://localhost:8080/"
    },
    "executionInfo": {
     "elapsed": 1164,
     "status": "ok",
     "timestamp": 1647894200123,
     "user": {
      "displayName": "noshah noshah",
      "photoUrl": "https://lh3.googleusercontent.com/a-/AOh14GgkTRhrrqPN9HB2tHKYbRJgstsa7FDBTuxCC8HTBQ=s64",
      "userId": "16058168177383914094"
     },
     "user_tz": 300
    },
    "id": "hhUw0V3Z12dG",
    "outputId": "746e8b03-3bcb-4ad0-b5da-c50aaf52bfc9"
   },
   "outputs": [
    {
     "name": "stdout",
     "output_type": "stream",
     "text": [
      "Total letters: 552345\n",
      " Uniques: 26\n",
      " Entropy: 4.18301\n",
      " Max.entropy: 4.70044\n"
     ]
    }
   ],
   "source": [
    "allcb = readlett('/content/book.txt')\n",
    "characterb, countb=np.unique(allcb,return_counts = True)\n",
    "pcb = countb/len(allcb)\n",
    "cSb = -np.sum(pcb * np.log2(pcb))\n",
    "cSbmax = -np.log2((1/len(characterb)))\n",
    "print(f'Total letters: {len(allcb)}\\n Uniques: {len(characterb)}\\n Entropy: {np.around(cSb,5)}\\n Max.entropy: {np.around(cSbmax,5)}')"
   ]
  },
  {
   "cell_type": "markdown",
   "metadata": {
    "id": "IcLt8H1OVE3V"
   },
   "source": [
    "### Top 24 bookd from Project Gutenberg"
   ]
  },
  {
   "cell_type": "code",
   "execution_count": 14,
   "metadata": {
    "colab": {
     "base_uri": "https://localhost:8080/"
    },
    "executionInfo": {
     "elapsed": 14080,
     "status": "ok",
     "timestamp": 1647894314741,
     "user": {
      "displayName": "noshah noshah",
      "photoUrl": "https://lh3.googleusercontent.com/a-/AOh14GgkTRhrrqPN9HB2tHKYbRJgstsa7FDBTuxCC8HTBQ=s64",
      "userId": "16058168177383914094"
     },
     "user_tz": 300
    },
    "id": "GJvZema1VNjF",
    "outputId": "249e8a89-0c65-46d1-980b-6d54c4f8d89a"
   },
   "outputs": [
    {
     "name": "stdout",
     "output_type": "stream",
     "text": [
      "Total letters: 9568572\n",
      " Uniques: 26\n",
      " Entropy: 4.18322\n",
      " Max. entropy: 4.70044\n"
     ]
    }
   ],
   "source": [
    "allcd = readlett('/content/24.txt')\n",
    "characterd, countd=np.unique(allcd,return_counts = True)\n",
    "pcd = countd/len(allcd)\n",
    "cSd = -np.sum(pcd * np.log2(pcd))\n",
    "cSdmax = -np.log2((1/len(characterd)))\n",
    "print(f'Total letters: {len(allcd)}\\n Uniques: {len(characterd)}\\n Entropy: {np.around(cSd,5)}\\n Max. entropy: {np.around(cSdmax,5)}')"
   ]
  },
  {
   "cell_type": "markdown",
   "metadata": {
    "id": "slxErXGRPUiA"
   },
   "source": [
    "### Comparison"
   ]
  },
  {
   "cell_type": "code",
   "execution_count": 15,
   "metadata": {
    "executionInfo": {
     "elapsed": 487,
     "status": "ok",
     "timestamp": 1647894335597,
     "user": {
      "displayName": "noshah noshah",
      "photoUrl": "https://lh3.googleusercontent.com/a-/AOh14GgkTRhrrqPN9HB2tHKYbRJgstsa7FDBTuxCC8HTBQ=s64",
      "userId": "16058168177383914094"
     },
     "user_tz": 300
    },
    "id": "KpuvATnBOHIp"
   },
   "outputs": [],
   "source": [
    "#borrowed from stackoverflow.com\n",
    "def subcategorybar(X, vals, width=0.8):\n",
    "    n = len(vals)\n",
    "    _X = np.arange(len(X))\n",
    "    fig,ax=plt.subplots(figsize=(25,7))\n",
    "    leg = ['book','dictionary']\n",
    "    for i in range(n):\n",
    "        plt.bar(_X - width/2. + i/float(n)*width, vals[i], \n",
    "                width=width/float(n), align=\"edge\",label=leg[i])   \n",
    "    plt.xlabel('character')\n",
    "    plt.ylabel('probability')\n",
    "    plt.xticks(_X, X)\n",
    "    plt.legend()"
   ]
  },
  {
   "cell_type": "code",
   "execution_count": 16,
   "metadata": {
    "colab": {
     "base_uri": "https://localhost:8080/",
     "height": 355
    },
    "executionInfo": {
     "elapsed": 631,
     "status": "ok",
     "timestamp": 1647894338477,
     "user": {
      "displayName": "noshah noshah",
      "photoUrl": "https://lh3.googleusercontent.com/a-/AOh14GgkTRhrrqPN9HB2tHKYbRJgstsa7FDBTuxCC8HTBQ=s64",
      "userId": "16058168177383914094"
     },
     "user_tz": 300
    },
    "id": "rGUjb6SrOJ27",
    "outputId": "a34557d7-011d-44ce-863a-7552c8f71b32"
   },
   "outputs": [
    {
     "data": {
      "image/png": "[encoded data removed]",
      "text/plain": [
       "<Figure size 1800x504 with 1 Axes>"
      ]
     },
     "metadata": {
      "needs_background": "light"
     },
     "output_type": "display_data"
    }
   ],
   "source": [
    "subcategorybar(characterb, [countb/len(allcb),countd/len(allcd)])"
   ]
  },
  {
   "cell_type": "markdown",
   "metadata": {
    "id": "w8qWGSKfUWyB"
   },
   "source": [
    "## Words entropy"
   ]
  },
  {
   "cell_type": "markdown",
   "metadata": {
    "id": "RQiGeiN3Vtj7"
   },
   "source": [
    "### Novel"
   ]
  },
  {
   "cell_type": "code",
   "execution_count": 17,
   "metadata": {
    "colab": {
     "base_uri": "https://localhost:8080/"
    },
    "executionInfo": {
     "elapsed": 221,
     "status": "ok",
     "timestamp": 1647894435190,
     "user": {
      "displayName": "noshah noshah",
      "photoUrl": "https://lh3.googleusercontent.com/a-/AOh14GgkTRhrrqPN9HB2tHKYbRJgstsa7FDBTuxCC8HTBQ=s64",
      "userId": "16058168177383914094"
     },
     "user_tz": 300
    },
    "id": "54fYO1QkJIoS",
    "outputId": "ff58177c-de0c-4b74-9ebd-4ec0f9f90dc6"
   },
   "outputs": [
    {
     "name": "stdout",
     "output_type": "stream",
     "text": [
      "Total words: 124749\n",
      " Uniques: 13132\n",
      " Entropy: 9.82878\n",
      " Max. entropy: 13.6808\n"
     ]
    }
   ],
   "source": [
    "allw = readword('/content/book.txt')\n",
    "word, wcount = np.unique(allw, return_counts = True)\n",
    "pw = wcount/len(allw)\n",
    "wS = -np.sum(pw * np.log2(pw))\n",
    "wSmax = -np.log2((1/len(word)))\n",
    "print(f'Total words: {len(allw)}\\n Uniques: {len(wcount)}\\n Entropy: {np.around(wS,5)}\\n Max. entropy: {np.around(wSmax,5)}')"
   ]
  },
  {
   "cell_type": "markdown",
   "metadata": {
    "id": "3-k6ohUhVwgz"
   },
   "source": [
    "### Top 24 books from Project Gutenberg"
   ]
  },
  {
   "cell_type": "code",
   "execution_count": 19,
   "metadata": {
    "colab": {
     "base_uri": "https://localhost:8080/"
    },
    "executionInfo": {
     "elapsed": 6154,
     "status": "ok",
     "timestamp": 1647894559233,
     "user": {
      "displayName": "noshah noshah",
      "photoUrl": "https://lh3.googleusercontent.com/a-/AOh14GgkTRhrrqPN9HB2tHKYbRJgstsa7FDBTuxCC8HTBQ=s64",
      "userId": "16058168177383914094"
     },
     "user_tz": 300
    },
    "id": "qmZylaERVyen",
    "outputId": "f443f21e-a47f-4c2f-a42f-277784af9b42"
   },
   "outputs": [
    {
     "name": "stdout",
     "output_type": "stream",
     "text": [
      "Total words: 2220351\n",
      " Uniques: 134827\n",
      " Entropy: 10.9599\n",
      " Max. entropy: 17.04075\n"
     ]
    }
   ],
   "source": [
    "allw = readword('/content/24.txt')\n",
    "word, wcount = np.unique(allw, return_counts = True)\n",
    "pw = wcount/len(allw)\n",
    "wS = -np.sum(pw * np.log2(pw))\n",
    "wSmax = -np.log2((1/len(word)))\n",
    "print(f'Total words: {len(allw)}\\n Uniques: {len(wcount)}\\n Entropy: {np.around(wS,5)}\\n Max. entropy: {np.around(wSmax,5)}')"
   ]
  },
  {
   "cell_type": "markdown",
   "metadata": {},
   "source": [
    "## Discussion"
   ]
  },
  {
   "cell_type": "markdown",
   "metadata": {
    "id": "NHWB48XfXK9F"
   },
   "source": [
    "I found the word and letter entropies for the novel pride and prejudice and compared it with top 24 books from Project Gutenberg. The results are summarized in the tables below.\n",
    "\n",
    "For letters:\n",
    "\n",
    "|   | Total letters  |  Uniques |  Entropy |   Max.entropy |\n",
    "|---|---|---|---|---|\n",
    "|  Novel | 552345  | 26  | 4.18301  |  4.70044 |\n",
    "|  24 books |  9568572 |  26 | 4.18322  |  4.70044 |\n",
    "\n",
    "The plot below also shows the letter by letter comparison of the probabilites. I think, if we add more and more books the numbers will get closer and closer.\n",
    "\n",
    "For words:\n",
    "\n",
    "|   | Total words  |  Uniques |  Entropy |   Max.entropy |\n",
    "|---|---|---|---|---|\n",
    "|  Novel | 124749  | 13132  | 9.82878  |  13.6808 |\n",
    "|  24 books |  2220351 |  134827 | 10.9599  |  17.04075 |\n",
    "\n",
    "\n",
    "In these tables, the maximum entropies are computed by assuming that each letter and word in the novel or collection of novels are equally likely i.e. complete ignorance. The decrease in entropies in the case of novel shows that the novel is not following a uniform distribution (neither for words not for letters).\n",
    "\n",
    "For the case of letters, combined entropy of a collection of 24 books, we can see that the maximum entropy is same as that of the novel. The reason for this is the number of unique alphabets, 26, which are the same, no matter how large a collection we take. Thus the probability for each letter is 1/26.\n",
    "\n",
    "For the case of words, we can see the uniques words are different in the novel and collection of books. Thus, for maximum entropy, we assign each word in the novel a probability of 1/13132, while for the collection, each word has probability of 1/134827. This makes the later case more uncertain then the former and so the entropy for the collection is larger than the novel.\n",
    "\n",
    "As i understood it, let's say that each word of the novel is made of random bunch of letters making no sense when combined together e.g. ywyshajwnshhs. Such words combine to make a sentences and those sentences together form the book. In this case if we know a letters of a word we can't predict what will be the next letter to complete the word. As an example, take the word, Appl_ we know that the most probable letter Will be \"e\" to complete the word, while in the case of aghigkiehhshbs__, who knows what's the last letter to complete the word and so the probability of each letter is 1/26.\n",
    "Similarly for a sentence say, \" The distance is nothing when one has motive.” if I remove the word \"nothing\" we can make gusses to fill the void. But if our sentances doesn't make any sence like this one \"aeghb kadabra expectra petronan\" . One can't guess the missing word ,if any, and thus all the words are equally probable."
   ]
  },
  {
   "cell_type": "markdown",
   "metadata": {
    "id": "k3llrJR4WBiJ"
   },
   "source": [
    "***"
   ]
  }
 ],
 "metadata": {
  "colab": {
   "collapsed_sections": [],
   "name": "info2.ipynb",
   "provenance": []
  },
  "kernelspec": {
   "display_name": "Python 3",
   "language": "python",
   "name": "python3"
  },
  "language_info": {
   "codemirror_mode": {
    "name": "ipython",
    "version": 3
   },
   "file_extension": ".py",
   "mimetype": "text/x-python",
   "name": "python",
   "nbconvert_exporter": "python",
   "pygments_lexer": "ipython3",
   "version": "3.7.6"
  }
 },
 "nbformat": 4,
 "nbformat_minor": 4
}
